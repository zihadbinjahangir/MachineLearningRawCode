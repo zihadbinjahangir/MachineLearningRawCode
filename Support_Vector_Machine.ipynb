{
 "cells": [
  {
   "cell_type": "code",
   "execution_count": 1,
   "id": "c878a644",
   "metadata": {},
   "outputs": [],
   "source": [
    "import numpy as np\n",
    "import matplotlib.pyplot as plt\n",
    "from sklearn import datasets"
   ]
  },
  {
   "cell_type": "code",
   "execution_count": 3,
   "id": "dc36f07c",
   "metadata": {},
   "outputs": [],
   "source": [
    "x, y = datasets.make_blobs(n_samples=50, n_features=2, centers=2, cluster_std=1.05, random_state=40)\n",
    "y = np.where(y == 0, -1, 1)"
   ]
  },
  {
   "cell_type": "code",
   "execution_count": 5,
   "id": "9ebd372e",
   "metadata": {},
   "outputs": [
    {
     "data": {
      "text/plain": [
       "(50, 2)"
      ]
     },
     "execution_count": 5,
     "metadata": {},
     "output_type": "execute_result"
    }
   ],
   "source": [
    "x.shape"
   ]
  },
  {
   "cell_type": "code",
   "execution_count": 8,
   "id": "274f124c",
   "metadata": {},
   "outputs": [
    {
     "data": {
      "text/plain": [
       "-1"
      ]
     },
     "execution_count": 8,
     "metadata": {},
     "output_type": "execute_result"
    }
   ],
   "source": [
    "y[40]"
   ]
  },
  {
   "cell_type": "code",
   "execution_count": 19,
   "id": "f1af33b4",
   "metadata": {},
   "outputs": [
    {
     "data": {
      "text/plain": [
       "<matplotlib.collections.PathCollection at 0x1e4e7be4190>"
      ]
     },
     "execution_count": 19,
     "metadata": {},
     "output_type": "execute_result"
    },
    {
     "data": {
      "image/png": "[encoded data removed]",
      "text/plain": [
       "<Figure size 432x288 with 1 Axes>"
      ]
     },
     "metadata": {
      "needs_background": "light"
     },
     "output_type": "display_data"
    }
   ],
   "source": [
    "plt.scatter(x[:,0],x[:,1])"
   ]
  },
  {
   "cell_type": "code",
   "execution_count": 20,
   "id": "7bb7925f",
   "metadata": {},
   "outputs": [],
   "source": [
    "################ Support Vector Machine ##################\n",
    "\n",
    "class SVM:\n",
    "    def __init__(self,lr=.001,lm=.01,itr= 1000):\n",
    "        self.lr = lr\n",
    "        self.lm = lm\n",
    "        self.itr = itr\n",
    "        self.w = None\n",
    "        self.b = None\n",
    "        \n",
    "    def fit(self,x,y):\n",
    "        y = np.where(y <= 0, -1, 1)\n",
    "        self.w = np.zeros(x.shape[1])\n",
    "        self.b = 0\n",
    "        \n",
    "        for i in range(self.itr):\n",
    "            for inx, itm in enumerate(x):\n",
    "                condition = y[inx]*(np.dot(itm,self.w)-self.b)>=1\n",
    "                \n",
    "                if condition:\n",
    "                    self.w -= self.lr*(2*self.lm*self.w)\n",
    "                else:\n",
    "                    self.w -= self.lr*(2*self.lm*self.w - np.dot(y[inx],itm))\n",
    "                    self.b -= self.lr*y[inx];\n",
    "    def predict(self,x):\n",
    "        yp = np.dot(x,self.w)-self.b\n",
    "        return np.sign(yp)"
   ]
  },
  {
   "cell_type": "code",
   "execution_count": 22,
   "id": "a675832f",
   "metadata": {},
   "outputs": [],
   "source": [
    "clf = SVM()\n",
    "clf.fit(x, y)"
   ]
  },
  {
   "cell_type": "code",
   "execution_count": 23,
   "id": "075d9c2c",
   "metadata": {},
   "outputs": [
    {
     "name": "stdout",
     "output_type": "stream",
     "text": [
      "[0.58977016 0.17946483] -0.1520000000000001\n"
     ]
    }
   ],
   "source": [
    "print(clf.w, clf.b)"
   ]
  },
  {
   "cell_type": "code",
   "execution_count": 26,
   "id": "045a8a31",
   "metadata": {},
   "outputs": [
    {
     "data": {
      "image/png": "[encoded data removed]",
      "text/plain": [
       "<Figure size 432x288 with 1 Axes>"
      ]
     },
     "metadata": {
      "needs_background": "light"
     },
     "output_type": "display_data"
    }
   ],
   "source": [
    "def visualize_svm():\n",
    "    def get_hyperplane_value(x, w, b, offset):\n",
    "        return (-w[0] * x + b + offset) / w[1]\n",
    "\n",
    "    fig = plt.figure()\n",
    "    ax = fig.add_subplot(1, 1, 1)\n",
    "    plt.scatter(x[:, 0], x[:, 1], marker=\"o\", c=y)\n",
    "\n",
    "    x0_1 = np.amin(x[:, 0])\n",
    "    x0_2 = np.amax(x[:, 0])\n",
    "\n",
    "    x1_1 = get_hyperplane_value(x0_1, clf.w, clf.b, 0)\n",
    "    x1_2 = get_hyperplane_value(x0_2, clf.w, clf.b, 0)\n",
    "\n",
    "    x1_1_m = get_hyperplane_value(x0_1, clf.w, clf.b, -1)\n",
    "    x1_2_m = get_hyperplane_value(x0_2, clf.w, clf.b, -1)\n",
    "\n",
    "    x1_1_p = get_hyperplane_value(x0_1, clf.w, clf.b, 1)\n",
    "    x1_2_p = get_hyperplane_value(x0_2, clf.w, clf.b, 1)\n",
    "\n",
    "    ax.plot([x0_1, x0_2], [x1_1, x1_2], \"y--\")\n",
    "    ax.plot([x0_1, x0_2], [x1_1_m, x1_2_m], \"k\")\n",
    "    ax.plot([x0_1, x0_2], [x1_1_p, x1_2_p], \"k\")\n",
    "\n",
    "    x1_min = np.amin(x[:, 1])\n",
    "    x1_max = np.amax(x[:, 1])\n",
    "    ax.set_ylim([x1_min - 3, x1_max + 3])\n",
    "\n",
    "    plt.show()\n",
    "\n",
    "visualize_svm()"
   ]
  },
  {
   "cell_type": "code",
   "execution_count": null,
   "id": "c9ccc205",
   "metadata": {},
   "outputs": [],
   "source": []
  }
 ],
 "metadata": {
  "kernelspec": {
   "display_name": "Python 3",
   "language": "python",
   "name": "python3"
  },
  "language_info": {
   "codemirror_mode": {
    "name": "ipython",
    "version": 3
   },
   "file_extension": ".py",
   "mimetype": "text/x-python",
   "name": "python",
   "nbconvert_exporter": "python",
   "pygments_lexer": "ipython3",
   "version": "3.8.8"
  }
 },
 "nbformat": 4,
 "nbformat_minor": 5
}
