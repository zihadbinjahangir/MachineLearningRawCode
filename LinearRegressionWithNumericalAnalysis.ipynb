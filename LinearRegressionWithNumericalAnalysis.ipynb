{
 "cells": [
  {
   "cell_type": "code",
   "execution_count": 1,
   "id": "2f6083fe",
   "metadata": {},
   "outputs": [],
   "source": [
    "import numpy as np\n",
    "import matplotlib.pyplot as plt"
   ]
  },
  {
   "cell_type": "code",
   "execution_count": 2,
   "id": "4450a396",
   "metadata": {},
   "outputs": [],
   "source": [
    "####### DATA ######\n",
    "\n",
    "chips_15s    = np.array([44.000,46.400,43.600,35.000,35.000,32.600,28.900,27.700,\n",
    "                         25.500,20.375,12.500,37.000,37.500,36.500,36.200,33.000,\n",
    "                         43.000,46.000,29.000,31.700,31.000,28.750,23.500,32.400,\n",
    "                         31.000,29.500,22.500,20.600,35.000,33.100,31.500,28.800,\n",
    "                         21.300,37.800,37.000,37.100,36.200,31.400,30.200,31.300,\n",
    "                         26.100,25.200,23.660,22.250,17.500,15.500,14.750,15.000,\n",
    "                         14.000,18.500,27.700,26.000,21.700,12.500,12.500],  dtype=float)\n",
    "temp_celsius = np.array([26.944, 25.833, 25.556, 23.056, 21.389, 20.000, 18.889, 18.333,\n",
    "                         16.389, 13.889, 12.778, 24.583, 23.333, 23.333, 22.500, 18.889,\n",
    "                         25.278, 25.833, 20.278, 20.278, 20.000, 18.889, 15.000, 21.111,\n",
    "                         20.556, 19.444, 16.250, 14.722, 22.222, 21.667, 20.556, 19.167,\n",
    "                         15.556, 23.889, 22.917, 22.500, 21.111, 19.722, 18.889, 20.556,\n",
    "                         17.222, 17.222, 16.111, 16.667, 13.611, 12.778, 11.111, 11.667,\n",
    "                         10.000, 11.111, 18.333, 17.222, 15.000, 10.417, 9.5833],  dtype=float)"
   ]
  },
  {
   "cell_type": "code",
   "execution_count": 3,
   "id": "4e44cf59",
   "metadata": {},
   "outputs": [],
   "source": [
    "###### Linear Regression Class ########\n",
    "class Linear_Regression:\n",
    "    def __init__(self):\n",
    "        self.m = 0\n",
    "        self.b = 0\n",
    "    def fit(self,x,y):\n",
    "        self.m = ((np.mean(x)*np.mean(y))-(np.mean(x*y)))/((np.mean(x)**2)-(np.mean(x**2)))\n",
    "        self.b = np.mean(y)-(self.m*np.mean(x))\n",
    "    def predict(self,x):\n",
    "        y = [self.m*i+self.b for i in x]\n",
    "        return y\n",
    "    def coef_(self):\n",
    "        return self.m\n",
    "    def intercept(self):\n",
    "        return self.b"
   ]
  },
  {
   "cell_type": "code",
   "execution_count": 4,
   "id": "328bbbdf",
   "metadata": {},
   "outputs": [],
   "source": [
    "reg = Linear_Regression()"
   ]
  },
  {
   "cell_type": "code",
   "execution_count": 5,
   "id": "ad88c63c",
   "metadata": {},
   "outputs": [],
   "source": [
    "reg.fit(chips_15s,temp_celsius)"
   ]
  },
  {
   "cell_type": "code",
   "execution_count": 6,
   "id": "f9107386",
   "metadata": {},
   "outputs": [
    {
     "data": {
      "text/plain": [
       "[24.276163307637987, 26.753353906535928]"
      ]
     },
     "execution_count": 6,
     "metadata": {},
     "output_type": "execute_result"
    }
   ],
   "source": [
    "reg.predict([40,45])"
   ]
  },
  {
   "cell_type": "code",
   "execution_count": 7,
   "id": "3a26450a",
   "metadata": {},
   "outputs": [
    {
     "data": {
      "text/plain": [
       "0.49543811977958857"
      ]
     },
     "execution_count": 7,
     "metadata": {},
     "output_type": "execute_result"
    }
   ],
   "source": [
    "reg.coef_()"
   ]
  },
  {
   "cell_type": "code",
   "execution_count": 8,
   "id": "ded7a349",
   "metadata": {},
   "outputs": [
    {
     "data": {
      "text/plain": [
       "4.458638516454444"
      ]
     },
     "execution_count": 8,
     "metadata": {},
     "output_type": "execute_result"
    }
   ],
   "source": [
    "reg.intercept()"
   ]
  },
  {
   "cell_type": "code",
   "execution_count": 9,
   "id": "87ecf4ca",
   "metadata": {},
   "outputs": [],
   "source": [
    "y = reg.predict(chips_15s)"
   ]
  },
  {
   "cell_type": "code",
   "execution_count": 10,
   "id": "3245bbb3",
   "metadata": {},
   "outputs": [
    {
     "data": {
      "text/plain": [
       "[<matplotlib.lines.Line2D at 0x1fe3be81a00>]"
      ]
     },
     "execution_count": 10,
     "metadata": {},
     "output_type": "execute_result"
    },
    {
     "data": {
      "image/png": "[encoded data removed]",
      "text/plain": [
       "<Figure size 432x288 with 1 Axes>"
      ]
     },
     "metadata": {
      "needs_background": "light"
     },
     "output_type": "display_data"
    }
   ],
   "source": [
    "########## Plotting The Regression Line of our model ###########\n",
    "\n",
    "plt.scatter(chips_15s,temp_celsius)\n",
    "plt.plot(chips_15s,y,'r')"
   ]
  },
  {
   "cell_type": "code",
   "execution_count": 19,
   "id": "7b1422d6",
   "metadata": {},
   "outputs": [],
   "source": [
    "################ R_Squared Value ####################\n",
    "\n",
    "r = ((np.sum((y-np.mean(temp_celsius))**2))/(np.sum((temp_celsius-np.mean(temp_celsius))**2)))"
   ]
  },
  {
   "cell_type": "code",
   "execution_count": 20,
   "id": "7db0c7e5",
   "metadata": {},
   "outputs": [
    {
     "data": {
      "text/plain": [
       "0.9608956704308135"
      ]
     },
     "execution_count": 20,
     "metadata": {},
     "output_type": "execute_result"
    }
   ],
   "source": [
    "r"
   ]
  },
  {
   "cell_type": "code",
   "execution_count": null,
   "id": "8d8b4a90",
   "metadata": {},
   "outputs": [],
   "source": []
  }
 ],
 "metadata": {
  "kernelspec": {
   "display_name": "Python 3",
   "language": "python",
   "name": "python3"
  },
  "language_info": {
   "codemirror_mode": {
    "name": "ipython",
    "version": 3
   },
   "file_extension": ".py",
   "mimetype": "text/x-python",
   "name": "python",
   "nbconvert_exporter": "python",
   "pygments_lexer": "ipython3",
   "version": "3.8.8"
  }
 },
 "nbformat": 4,
 "nbformat_minor": 5
}
